{
  "nbformat": 4,
  "nbformat_minor": 0,
  "metadata": {
    "colab": {
      "provenance": []
    },
    "kernelspec": {
      "name": "python3",
      "display_name": "Python 3"
    },
    "language_info": {
      "name": "python"
    }
  },
  "cells": [
    {
      "cell_type": "code",
      "execution_count": null,
      "metadata": {
        "colab": {
          "base_uri": "https://localhost:8080/"
        },
        "id": "pSdGxNg07E1y",
        "outputId": "e9cce570-08ca-43a9-f6a7-7d7a7a7faf5e"
      },
      "outputs": [
        {
          "output_type": "stream",
          "name": "stdout",
          "text": [
            "Looking in indexes: https://pypi.org/simple, https://us-python.pkg.dev/colab-wheels/public/simple/\n",
            "Requirement already satisfied: Pillow in /usr/local/lib/python3.8/dist-packages (7.1.2)\n"
          ]
        }
      ],
      "source": [
        "pip install Pillow"
      ]
    },
    {
      "cell_type": "code",
      "source": [
        "from PIL import Image\n",
        "import glob"
      ],
      "metadata": {
        "id": "w_-SYU-O8Ddu"
      },
      "execution_count": null,
      "outputs": []
    },
    {
      "cell_type": "code",
      "source": [
        "from google.colab import drive\n",
        "drive.mount('/content/drive')"
      ],
      "metadata": {
        "id": "-ScLZqSUBEMY",
        "colab": {
          "base_uri": "https://localhost:8080/"
        },
        "outputId": "c067cdfc-9d5c-4ce4-8272-5b6063acf311"
      },
      "execution_count": null,
      "outputs": [
        {
          "output_type": "stream",
          "name": "stdout",
          "text": [
            "Mounted at /content/drive\n"
          ]
        }
      ]
    },
    {
      "cell_type": "code",
      "source": [
        "img_path = \"/content/drive/MyDrive/AKSUND/a/10 (1).jpg\"\n",
        "\n",
        "im = Image.open(img_path)\n",
        "print('{}'.format(im.format))\n",
        "print('size: {}'.format(im.size))\n"
      ],
      "metadata": {
        "colab": {
          "base_uri": "https://localhost:8080/"
        },
        "id": "brhQcBb2574E",
        "outputId": "2a8c2b44-f17b-4634-ac3a-87bf0d89a186"
      },
      "execution_count": null,
      "outputs": [
        {
          "output_type": "stream",
          "name": "stdout",
          "text": [
            "JPEG\n",
            "size: (187, 187)\n"
          ]
        }
      ]
    },
    {
      "cell_type": "code",
      "source": [
        "image_list = []\n",
        "resized_images = []"
      ],
      "metadata": {
        "id": "pdq3fywd60kk"
      },
      "execution_count": null,
      "outputs": []
    },
    {
      "cell_type": "code",
      "source": [
        "for data in glob.glob('/content/drive/MyDrive/foto/PCD/00/*.jpg'):\n",
        "    print(data)\n",
        "    img = Image.open(data)\n",
        "    image_list.append(img)"
      ],
      "metadata": {
        "id": "H4X1VgGxElc7"
      },
      "execution_count": null,
      "outputs": []
    },
    {
      "cell_type": "code",
      "source": [
        "for image in image_list:\n",
        "  image = image.resize((100,100))\n",
        "  resized_images.append(image)"
      ],
      "metadata": {
        "id": "7bLk7HKSGgqz"
      },
      "execution_count": null,
      "outputs": []
    },
    {
      "cell_type": "code",
      "source": [
        "for (i, new) in enumerate(resized_images):\n",
        "  new.save('{}{}{}'.format('/content/drive/MyDrive/AKsund Resize/a/a_',i+1, '.jpg'))"
      ],
      "metadata": {
        "id": "NCDOXFfKHfSK"
      },
      "execution_count": null,
      "outputs": []
    },
    {
      "cell_type": "code",
      "source": [
        "img_path = \"/content/drive/MyDrive/AKsund Resize/a/a_10.png\"\n",
        "\n",
        "im = Image.open(img_path)\n",
        "print('{}'.format(im.format))\n",
        "print('size: {}'.format(im.size))"
      ],
      "metadata": {
        "colab": {
          "base_uri": "https://localhost:8080/"
        },
        "id": "S4aeVnX3jjO-",
        "outputId": "98c09eb3-89d2-43cf-cc29-56bc001e98ba"
      },
      "execution_count": null,
      "outputs": [
        {
          "output_type": "stream",
          "name": "stdout",
          "text": [
            "PNG\n",
            "size: (100, 100)\n"
          ]
        }
      ]
    },
    {
      "cell_type": "markdown",
      "source": [],
      "metadata": {
        "id": "yrbPhZE6J712"
      }
    }
  ]
}