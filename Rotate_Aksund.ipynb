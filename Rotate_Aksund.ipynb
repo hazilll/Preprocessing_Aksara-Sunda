{
  "nbformat": 4,
  "nbformat_minor": 0,
  "metadata": {
    "colab": {
      "provenance": [],
      "toc_visible": true
    },
    "kernelspec": {
      "name": "python3",
      "display_name": "Python 3"
    },
    "language_info": {
      "name": "python"
    }
  },
  "cells": [
    {
      "cell_type": "code",
      "execution_count": null,
      "metadata": {
        "id": "pn2dE4qOPhSf"
      },
      "outputs": [],
      "source": [
        "  from tensorflow.keras.preprocessing.image import ImageDataGenerator\n",
        "from matplotlib.pyplot import imread, subplots\n",
        "import numpy as np\n",
        "import os\n",
        "from PIL import Image\n",
        "from skimage import io"
      ]
    },
    {
      "cell_type": "code",
      "source": [
        "from google.colab import drive\n",
        "drive.mount('/content/drive')"
      ],
      "metadata": {
        "colab": {
          "base_uri": "https://localhost:8080/"
        },
        "id": "OHOQ809XP2YV",
        "outputId": "f9421885-49a9-4603-a3a9-4973366359b3"
      },
      "execution_count": null,
      "outputs": [
        {
          "output_type": "stream",
          "name": "stdout",
          "text": [
            "Mounted at /content/drive\n"
          ]
        }
      ]
    },
    {
      "cell_type": "code",
      "source": [
        "datagen = ImageDataGenerator(\n",
        "            rotation_range=60)"
      ],
      "metadata": {
        "id": "J8hEwYVyPszl"
      },
      "execution_count": null,
      "outputs": []
    },
    {
      "cell_type": "code",
      "source": [
        "image_directory = '/content/drive/MyDrive/AKsund Resize/a/'\n",
        "dataset = []"
      ],
      "metadata": {
        "id": "3IstCP1ImIWk"
      },
      "execution_count": null,
      "outputs": []
    },
    {
      "cell_type": "code",
      "source": [
        "my_images = os.listdir(image_directory)\n",
        "for i, image_name in enumerate(my_images):\n",
        "   if (image_name.split('.')[1] == 'png'):\n",
        "       image = io.imread(image_directory + image_name)\n",
        "       dataset.append(np.array(image))"
      ],
      "metadata": {
        "id": "qQjcWm2hmUdm"
      },
      "execution_count": null,
      "outputs": []
    },
    {
      "cell_type": "code",
      "source": [
        "x = np.array(dataset)\n",
        "i = 0\n",
        "for batch in datagen.flow(x, batch_size=20,\n",
        "                          save_to_dir='/content/drive/MyDrive/Aksund Rotate/a',\n",
        "                          save_format='png'):\n",
        "    i+=1\n",
        "    if i > 100: #Epochs\n",
        "        break"
      ],
      "metadata": {
        "id": "oyYUv417N2Js"
      },
      "execution_count": null,
      "outputs": []
    }
  ]
}